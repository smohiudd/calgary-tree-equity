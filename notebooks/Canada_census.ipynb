{
 "cells": [
  {
   "cell_type": "code",
   "execution_count": 50,
   "id": "97a47054-f434-41f4-a302-5fd310e1c88f",
   "metadata": {},
   "outputs": [],
   "source": [
    "import requests\n",
    "import pandasdmx as sdmx\n",
    "import pandas as pd\n",
    "import geopandas as gpd\n",
    "from itertools import batched\n",
    "import os"
   ]
  },
  {
   "cell_type": "markdown",
   "id": "99cefff0-d655-422b-a3fe-4f8d3cc00386",
   "metadata": {},
   "source": [
    "## Census Subdivision - Calgary"
   ]
  },
  {
   "cell_type": "code",
   "execution_count": 7,
   "id": "1e50b2a5-11dc-4b3f-96fa-39c6f23e09d7",
   "metadata": {},
   "outputs": [],
   "source": [
    "#https://www12.statcan.gc.ca/census-recensement/2021/geo/sip-pis/boundary-limites/index2021-eng.cfm?year=21\n",
    "\n",
    "census_subdivisions = gpd.read_file(\"../../data/CensusSubdivision/lcsd000b21a_e.shp\")\n",
    "calgary_boundary = census_subdivisions[census_subdivisions[\"CSDNAME\"]==\"Calgary\"].copy()\n",
    "calgary_boundary['geometry'] = calgary_boundary.geometry.buffer(-100) #buffer to so we don't get surrounding Disseminations Areas"
   ]
  },
  {
   "cell_type": "markdown",
   "id": "3d973afd-603e-4c10-8b94-17660796ca53",
   "metadata": {},
   "source": [
    "## Dissemination Areas"
   ]
  },
  {
   "cell_type": "code",
   "execution_count": 8,
   "id": "8f4b7b11-1938-4c34-9e4a-0bd1c8e47366",
   "metadata": {},
   "outputs": [],
   "source": [
    "#https://www12.statcan.gc.ca/census-recensement/2021/geo/sip-pis/boundary-limites/index2021-eng.cfm?year=21\n",
    "\n",
    "DA = gpd.read_file(\"../../data/DisseminationArea/lda_000b21a_e.shp\").sjoin(calgary_boundary, how=\"inner\")"
   ]
  },
  {
   "cell_type": "code",
   "execution_count": 9,
   "id": "8aa09418-e5e8-43af-95d1-1101a4368deb",
   "metadata": {},
   "outputs": [],
   "source": [
    "DAs = DA[\"DGUID_left\"].to_list()"
   ]
  },
  {
   "cell_type": "markdown",
   "id": "1d69bca4-c576-432c-9855-43906308770d",
   "metadata": {},
   "source": [
    "## Statistical Data and Metadata eXchange (SDMX) "
   ]
  },
  {
   "cell_type": "code",
   "execution_count": 778,
   "id": "57274356-9e45-4cbd-a196-b0f7651a49bf",
   "metadata": {},
   "outputs": [],
   "source": [
    "#https://www12.statcan.gc.ca/wds-sdw/2021profile-profil2021-eng.cfm"
   ]
  },
  {
   "cell_type": "code",
   "execution_count": 11,
   "id": "91559c68-a2ca-4df6-baea-1d1c38225461",
   "metadata": {},
   "outputs": [],
   "source": [
    "# ADD SOURCE\n",
    "sdmx.source.add_source({\n",
    "    \"id\":\"STC_CP\",\n",
    "    \"url\":\"https://api.statcan.gc.ca/census-recensement/profile/sdmx/rest\",\n",
    "    \"documentation\": \"https://www12.statcan.gc.ca/wds-sdw/2021profile-profil2021-eng\",\n",
    "    \"name\": \"Statistics Canada\",\n",
    "    \"supported\": {\"codelist\": False, \"preview\": True}\n",
    "},override=True)"
   ]
  },
  {
   "cell_type": "markdown",
   "id": "b3830f7b-8adf-4c51-a424-69f2e527c0de",
   "metadata": {},
   "source": [
    "### Get Code List Mapping for Census Profile Characteristics"
   ]
  },
  {
   "cell_type": "code",
   "execution_count": 12,
   "id": "4101e330-7a53-445e-9b9a-05ba0410472e",
   "metadata": {},
   "outputs": [],
   "source": [
    "headers = {\n",
    "    \"Accept\":\"application/vnd.sdmx.structure+json;version=1.0\"\n",
    "}\n",
    "r = requests.get(\"https://api.statcan.gc.ca/census-recensement/profile/sdmx/rest/codelist/STC_CP/CL_CHARACTERISTIC/\", headers=headers)"
   ]
  },
  {
   "cell_type": "code",
   "execution_count": 13,
   "id": "43e9968c-871c-4e0f-ad07-a97b6bb0ffe0",
   "metadata": {},
   "outputs": [],
   "source": [
    "codelist = r.json()[\"data\"][\"codelists\"][0][\"codes\"]\n",
    "# code_df = pd.DataFrame([{\"code\":i[\"id\"],\"charac_id\":i[\"annotations\"][0][\"text\"],\"name\":i[\"name\"]} for i in codelist])\n",
    "codes = [i[\"id\"] for i in codelist]\n",
    "charac_id = [i[\"annotations\"][0][\"text\"] for i in codelist]\n",
    "code_dict = dict(zip(charac_id, codes))"
   ]
  },
  {
   "cell_type": "markdown",
   "id": "437737b6-0f2a-413c-8acf-1bbac8965552",
   "metadata": {},
   "source": [
    "### Get Data"
   ]
  },
  {
   "cell_type": "code",
   "execution_count": 14,
   "id": "f84a0aff-343c-40f9-89d8-13023cc6bdb0",
   "metadata": {},
   "outputs": [],
   "source": [
    "headers = {\n",
    "    \"Accept\":\"application/vnd.sdmx.genericdata+xml;version=2.1\"\n",
    "}\n",
    "\n",
    "s = requests.Session()\n",
    "s.headers.update(headers)\n",
    "sc= sdmx.Request(\"STC_CP\", session=s)"
   ]
  },
  {
   "cell_type": "code",
   "execution_count": 15,
   "id": "0fb23556-2ebe-43c0-8739-3359f5b82316",
   "metadata": {},
   "outputs": [],
   "source": [
    "# da_msg = sc.dataflow(\"DF_DA\", params={\"references\":\"codelist\"})"
   ]
  },
  {
   "cell_type": "code",
   "execution_count": 16,
   "id": "81ee6f6a-6397-40b6-8743-9be21e3016b1",
   "metadata": {},
   "outputs": [],
   "source": [
    "# cl = sdmx.to_pandas(da_msg.codelist.CL_CHARACTERISTIC)\n",
    "# cl.head()\n",
    "# cl[cl[\"name\"].str.contains(\"Total - LIM low-income status in 2020 for the population in private households\")].index[0]"
   ]
  },
  {
   "cell_type": "code",
   "execution_count": 17,
   "id": "a123984b-96f1-42e5-a336-1aec7a58afda",
   "metadata": {},
   "outputs": [],
   "source": [
    "chars = {\n",
    "    \"1683\":\"Visible_Minority_Total\",\n",
    "    \"1684\":\"Visible_Minority\",\n",
    "    \"2230\":\"Unemployment_rate\",\n",
    "    \"8\":\"Total_age\",\n",
    "    \"10\":\"Total_age_0_4\",\n",
    "    \"24\":\"Total_age_65_older\",\n",
    "    \"338\":\"Total_LIM_18_64\",\n",
    "    \"339\":\"Total_LIM_65_over\",\n",
    "    \"343\":\"LIM_18_64\",\n",
    "    \"344\":\"LIM_65_over\",\n",
    "    \"383\":\"Language_Total\",\n",
    "    \"387\":\"Language_NO_Eng_Fr\"\n",
    "}"
   ]
  },
  {
   "cell_type": "code",
   "execution_count": 18,
   "id": "203487fa-12ea-48e4-a799-9ee8d27a2bf0",
   "metadata": {},
   "outputs": [],
   "source": [
    "# Geographic Unique Identifier\n",
    "# DGUID=[\"2021S051248060056\"]\n",
    "DGUID = DA[\"DGUID_left\"].to_list()"
   ]
  },
  {
   "cell_type": "code",
   "execution_count": 19,
   "id": "301eceb6-7c85-4982-9c11-6d275057f6a4",
   "metadata": {
    "scrolled": true
   },
   "outputs": [],
   "source": [
    "mapped_chars = {code_dict[k]:chars[k] for k in chars}"
   ]
  },
  {
   "cell_type": "code",
   "execution_count": 21,
   "id": "e9d22c6a-04cb-428f-939e-7f43309eecdc",
   "metadata": {},
   "outputs": [],
   "source": [
    "def get_key(chars, gui, schema):\n",
    "    dguids = \"+\".join(gui)\n",
    "    stat_cols =\"+\".join(mapped_chars)\n",
    "    return f\"A5.{dguids}.1.{stat_cols}.1\""
   ]
  },
  {
   "cell_type": "code",
   "execution_count": 52,
   "id": "bd71a2b4-0917-4909-8673-da126bcce098",
   "metadata": {},
   "outputs": [
    {
     "name": "stdout",
     "output_type": "stream",
     "text": [
      "batch...\n",
      "batch...\n",
      "batch...\n",
      "batch...\n",
      "batch...\n",
      "batch...\n",
      "batch...\n",
      "batch...\n",
      "batch...\n"
     ]
    }
   ],
   "source": [
    "filename = \"DA_Calgary_census_data.csv\"\n",
    "for batch in batched(DGUID, 200):\n",
    "    key = get_key(chars, batch, schema)\n",
    "    data = sc.data('STC_CP,DF_DA', key=key)\n",
    "    df = pd.DataFrame(data.to_pandas()).reset_index().drop(['FREQ', 'GENDER',\"STATISTIC\",\"TIME_PERIOD\"], axis=1)\n",
    "\n",
    "    df1 = df.pivot(index=\"REF_AREA\", columns=\"CHARACTERISTIC\").rename(columns=mapped_chars)\n",
    "    df1.columns = df1.columns.droplevel()\n",
    "    if not os.path.isfile(filename):\n",
    "        df1.to_csv(filename, mode=\"a\")\n",
    "    else: \n",
    "        df1.to_csv(filename, mode=\"a\", header=False)\n",
    "    "
   ]
  },
  {
   "cell_type": "code",
   "execution_count": null,
   "id": "a2f23522-2792-42a0-917e-f27b20b87b2c",
   "metadata": {},
   "outputs": [],
   "source": []
  },
  {
   "cell_type": "code",
   "execution_count": null,
   "id": "1d64620f-24a9-4a48-82a0-acefce79f300",
   "metadata": {},
   "outputs": [],
   "source": []
  },
  {
   "cell_type": "code",
   "execution_count": null,
   "id": "5aa54530-86bc-4376-b47e-d31a0f1c81f1",
   "metadata": {},
   "outputs": [],
   "source": []
  }
 ],
 "metadata": {
  "kernelspec": {
   "display_name": "Python 3 (ipykernel)",
   "language": "python",
   "name": "python3"
  },
  "language_info": {
   "codemirror_mode": {
    "name": "ipython",
    "version": 3
   },
   "file_extension": ".py",
   "mimetype": "text/x-python",
   "name": "python",
   "nbconvert_exporter": "python",
   "pygments_lexer": "ipython3",
   "version": "3.12.3"
  }
 },
 "nbformat": 4,
 "nbformat_minor": 5
}
